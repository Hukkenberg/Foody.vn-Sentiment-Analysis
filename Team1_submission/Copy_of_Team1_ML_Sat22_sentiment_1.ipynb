{
  "cells": [
    {
      "cell_type": "code",
      "source": [
        "from google.colab import drive\n",
        "drive.mount('/content/gdrive')"
      ],
      "metadata": {
        "id": "OcuNvZSWJQVY",
        "colab": {
          "base_uri": "https://localhost:8080/"
        },
        "outputId": "f4f03204-2486-468f-fbc6-c5ac7318d910"
      },
      "execution_count": null,
      "outputs": [
        {
          "output_type": "stream",
          "name": "stdout",
          "text": [
            "Mounted at /content/gdrive\n"
          ]
        }
      ]
    },
    {
      "cell_type": "code",
      "execution_count": null,
      "metadata": {
        "id": "z682XYsrjkY9",
        "colab": {
          "base_uri": "https://localhost:8080/"
        },
        "outputId": "10469716-4d7f-4e9d-cda7-85164d184cdb"
      },
      "outputs": [
        {
          "output_type": "stream",
          "name": "stderr",
          "text": [
            "[nltk_data] Downloading package stopwords to /root/nltk_data...\n",
            "[nltk_data]   Unzipping corpora/stopwords.zip.\n"
          ]
        }
      ],
      "source": [
        "import pandas as pd\n",
        "import numpy as np\n",
        "\n",
        "import string\n",
        "\n",
        "import tensorflow as tf\n",
        "from tensorflow.keras.preprocessing.text import Tokenizer\n",
        "from tensorflow.keras.preprocessing.sequence import pad_sequences\n",
        "from tensorflow.keras.callbacks import CSVLogger\n",
        "\n",
        "import matplotlib.pyplot as plt\n",
        "import seaborn as sns\n",
        "\n",
        "from nltk.corpus import stopwords\n",
        "import nltk\n",
        "\n",
        "import re\n",
        "import multiprocessing\n",
        "\n",
        "from sklearn.model_selection import train_test_split\n",
        "nltk.download(\"stopwords\")\n",
        "\n",
        "import warnings\n",
        "warnings.filterwarnings(\"ignore\")"
      ]
    },
    {
      "cell_type": "code",
      "execution_count": null,
      "metadata": {
        "id": "dDsCaZCDYZgm",
        "colab": {
          "base_uri": "https://localhost:8080/",
          "height": 206
        },
        "outputId": "8dc2fb6a-10e1-45be-842c-b8e170c99305"
      },
      "outputs": [
        {
          "output_type": "execute_result",
          "data": {
            "text/plain": [
              "  Unnamed: 0    RevId      UserId  \\\n",
              "0          0  3839333  10106093.0   \n",
              "1          1  2824877    786914.0   \n",
              "2          2  9816702  22467889.0   \n",
              "3          3  2684585   1889449.0   \n",
              "4          4  2737987   8839942.0   \n",
              "\n",
              "                                             Comment  \\\n",
              "0  Xôi dẻo, đồ ăn đậm vị. Hộp xôi được lót lá trô...   \n",
              "1  Gọi ship 1 xuất cari gà bánh naan và 3 miếng g...   \n",
              "2  Thời tiết lạnh như này, cả nhà rủ nhau đến leg...   \n",
              "3  Em có đọc review thấy mng bảo trà sữa nướng đề...   \n",
              "4  Đồ ăn rất ngon, nhà hàng cũng rất đẹp, tất cả ...   \n",
              "\n",
              "                                          image_urls  Rating  \n",
              "0  ['https://images.foody.vn/res/g97/966781/s800/...     1.0  \n",
              "1  ['https://images.foody.vn/res/g69/688413/s800/...     0.0  \n",
              "2  ['https://images.foody.vn/res/g72/715078/s800/...     1.0  \n",
              "3  ['https://images.foody.vn/res/g90/895545/s800/...     0.0  \n",
              "4  ['https://images.foody.vn/res/g4/30186/s800/fo...     1.0  "
            ],
            "text/html": [
              "\n",
              "  <div id=\"df-e102ee9c-db23-4d9b-91f8-7defaaa72b31\">\n",
              "    <div class=\"colab-df-container\">\n",
              "      <div>\n",
              "<style scoped>\n",
              "    .dataframe tbody tr th:only-of-type {\n",
              "        vertical-align: middle;\n",
              "    }\n",
              "\n",
              "    .dataframe tbody tr th {\n",
              "        vertical-align: top;\n",
              "    }\n",
              "\n",
              "    .dataframe thead th {\n",
              "        text-align: right;\n",
              "    }\n",
              "</style>\n",
              "<table border=\"1\" class=\"dataframe\">\n",
              "  <thead>\n",
              "    <tr style=\"text-align: right;\">\n",
              "      <th></th>\n",
              "      <th>Unnamed: 0</th>\n",
              "      <th>RevId</th>\n",
              "      <th>UserId</th>\n",
              "      <th>Comment</th>\n",
              "      <th>image_urls</th>\n",
              "      <th>Rating</th>\n",
              "    </tr>\n",
              "  </thead>\n",
              "  <tbody>\n",
              "    <tr>\n",
              "      <th>0</th>\n",
              "      <td>0</td>\n",
              "      <td>3839333</td>\n",
              "      <td>10106093.0</td>\n",
              "      <td>Xôi dẻo, đồ ăn đậm vị. Hộp xôi được lót lá trô...</td>\n",
              "      <td>['https://images.foody.vn/res/g97/966781/s800/...</td>\n",
              "      <td>1.0</td>\n",
              "    </tr>\n",
              "    <tr>\n",
              "      <th>1</th>\n",
              "      <td>1</td>\n",
              "      <td>2824877</td>\n",
              "      <td>786914.0</td>\n",
              "      <td>Gọi ship 1 xuất cari gà bánh naan và 3 miếng g...</td>\n",
              "      <td>['https://images.foody.vn/res/g69/688413/s800/...</td>\n",
              "      <td>0.0</td>\n",
              "    </tr>\n",
              "    <tr>\n",
              "      <th>2</th>\n",
              "      <td>2</td>\n",
              "      <td>9816702</td>\n",
              "      <td>22467889.0</td>\n",
              "      <td>Thời tiết lạnh như này, cả nhà rủ nhau đến leg...</td>\n",
              "      <td>['https://images.foody.vn/res/g72/715078/s800/...</td>\n",
              "      <td>1.0</td>\n",
              "    </tr>\n",
              "    <tr>\n",
              "      <th>3</th>\n",
              "      <td>3</td>\n",
              "      <td>2684585</td>\n",
              "      <td>1889449.0</td>\n",
              "      <td>Em có đọc review thấy mng bảo trà sữa nướng đề...</td>\n",
              "      <td>['https://images.foody.vn/res/g90/895545/s800/...</td>\n",
              "      <td>0.0</td>\n",
              "    </tr>\n",
              "    <tr>\n",
              "      <th>4</th>\n",
              "      <td>4</td>\n",
              "      <td>2737987</td>\n",
              "      <td>8839942.0</td>\n",
              "      <td>Đồ ăn rất ngon, nhà hàng cũng rất đẹp, tất cả ...</td>\n",
              "      <td>['https://images.foody.vn/res/g4/30186/s800/fo...</td>\n",
              "      <td>1.0</td>\n",
              "    </tr>\n",
              "  </tbody>\n",
              "</table>\n",
              "</div>\n",
              "      <button class=\"colab-df-convert\" onclick=\"convertToInteractive('df-e102ee9c-db23-4d9b-91f8-7defaaa72b31')\"\n",
              "              title=\"Convert this dataframe to an interactive table.\"\n",
              "              style=\"display:none;\">\n",
              "        \n",
              "  <svg xmlns=\"http://www.w3.org/2000/svg\" height=\"24px\"viewBox=\"0 0 24 24\"\n",
              "       width=\"24px\">\n",
              "    <path d=\"M0 0h24v24H0V0z\" fill=\"none\"/>\n",
              "    <path d=\"M18.56 5.44l.94 2.06.94-2.06 2.06-.94-2.06-.94-.94-2.06-.94 2.06-2.06.94zm-11 1L8.5 8.5l.94-2.06 2.06-.94-2.06-.94L8.5 2.5l-.94 2.06-2.06.94zm10 10l.94 2.06.94-2.06 2.06-.94-2.06-.94-.94-2.06-.94 2.06-2.06.94z\"/><path d=\"M17.41 7.96l-1.37-1.37c-.4-.4-.92-.59-1.43-.59-.52 0-1.04.2-1.43.59L10.3 9.45l-7.72 7.72c-.78.78-.78 2.05 0 2.83L4 21.41c.39.39.9.59 1.41.59.51 0 1.02-.2 1.41-.59l7.78-7.78 2.81-2.81c.8-.78.8-2.07 0-2.86zM5.41 20L4 18.59l7.72-7.72 1.47 1.35L5.41 20z\"/>\n",
              "  </svg>\n",
              "      </button>\n",
              "      \n",
              "  <style>\n",
              "    .colab-df-container {\n",
              "      display:flex;\n",
              "      flex-wrap:wrap;\n",
              "      gap: 12px;\n",
              "    }\n",
              "\n",
              "    .colab-df-convert {\n",
              "      background-color: #E8F0FE;\n",
              "      border: none;\n",
              "      border-radius: 50%;\n",
              "      cursor: pointer;\n",
              "      display: none;\n",
              "      fill: #1967D2;\n",
              "      height: 32px;\n",
              "      padding: 0 0 0 0;\n",
              "      width: 32px;\n",
              "    }\n",
              "\n",
              "    .colab-df-convert:hover {\n",
              "      background-color: #E2EBFA;\n",
              "      box-shadow: 0px 1px 2px rgba(60, 64, 67, 0.3), 0px 1px 3px 1px rgba(60, 64, 67, 0.15);\n",
              "      fill: #174EA6;\n",
              "    }\n",
              "\n",
              "    [theme=dark] .colab-df-convert {\n",
              "      background-color: #3B4455;\n",
              "      fill: #D2E3FC;\n",
              "    }\n",
              "\n",
              "    [theme=dark] .colab-df-convert:hover {\n",
              "      background-color: #434B5C;\n",
              "      box-shadow: 0px 1px 3px 1px rgba(0, 0, 0, 0.15);\n",
              "      filter: drop-shadow(0px 1px 2px rgba(0, 0, 0, 0.3));\n",
              "      fill: #FFFFFF;\n",
              "    }\n",
              "  </style>\n",
              "\n",
              "      <script>\n",
              "        const buttonEl =\n",
              "          document.querySelector('#df-e102ee9c-db23-4d9b-91f8-7defaaa72b31 button.colab-df-convert');\n",
              "        buttonEl.style.display =\n",
              "          google.colab.kernel.accessAllowed ? 'block' : 'none';\n",
              "\n",
              "        async function convertToInteractive(key) {\n",
              "          const element = document.querySelector('#df-e102ee9c-db23-4d9b-91f8-7defaaa72b31');\n",
              "          const dataTable =\n",
              "            await google.colab.kernel.invokeFunction('convertToInteractive',\n",
              "                                                     [key], {});\n",
              "          if (!dataTable) return;\n",
              "\n",
              "          const docLinkHtml = 'Like what you see? Visit the ' +\n",
              "            '<a target=\"_blank\" href=https://colab.research.google.com/notebooks/data_table.ipynb>data table notebook</a>'\n",
              "            + ' to learn more about interactive tables.';\n",
              "          element.innerHTML = '';\n",
              "          dataTable['output_type'] = 'display_data';\n",
              "          await google.colab.output.renderOutput(dataTable, element);\n",
              "          const docLink = document.createElement('div');\n",
              "          docLink.innerHTML = docLinkHtml;\n",
              "          element.appendChild(docLink);\n",
              "        }\n",
              "      </script>\n",
              "    </div>\n",
              "  </div>\n",
              "  "
            ]
          },
          "metadata": {},
          "execution_count": 3
        }
      ],
      "source": [
        "train_dataset = pd.read_csv('/content/gdrive/MyDrive/MLSentiment/full_train.csv')\n",
        "test_dataset = pd.read_csv('/content/gdrive/MyDrive/MLSentiment/test.csv')\n",
        "train_dataset.head()"
      ]
    },
    {
      "cell_type": "code",
      "source": [
        "test_dataset.info()"
      ],
      "metadata": {
        "id": "FcoFPSxxv-e7",
        "colab": {
          "base_uri": "https://localhost:8080/",
          "height": 165
        },
        "outputId": "b7f07a58-8da3-4d22-a724-05ee1bc915a8"
      },
      "execution_count": null,
      "outputs": [
        {
          "output_type": "error",
          "ename": "NameError",
          "evalue": "ignored",
          "traceback": [
            "\u001b[0;31m---------------------------------------------------------------------------\u001b[0m",
            "\u001b[0;31mNameError\u001b[0m                                 Traceback (most recent call last)",
            "\u001b[0;32m<ipython-input-1-dd374372e770>\u001b[0m in \u001b[0;36m<module>\u001b[0;34m\u001b[0m\n\u001b[0;32m----> 1\u001b[0;31m \u001b[0mtest_dataset\u001b[0m\u001b[0;34m.\u001b[0m\u001b[0minfo\u001b[0m\u001b[0;34m(\u001b[0m\u001b[0;34m)\u001b[0m\u001b[0;34m\u001b[0m\u001b[0;34m\u001b[0m\u001b[0m\n\u001b[0m",
            "\u001b[0;31mNameError\u001b[0m: name 'test_dataset' is not defined"
          ]
        }
      ]
    },
    {
      "cell_type": "code",
      "source": [
        "train_dataset = train_dataset.replace('nan', np.nan)\n",
        "train_dataset = train_dataset.dropna()"
      ],
      "metadata": {
        "id": "5sk-s_MnN3pR"
      },
      "execution_count": null,
      "outputs": []
    },
    {
      "cell_type": "code",
      "source": [
        "train_dataset.shape"
      ],
      "metadata": {
        "id": "TVt5JEt1wXMs"
      },
      "execution_count": null,
      "outputs": []
    },
    {
      "cell_type": "code",
      "source": [
        "train_dataset.describe(include='all')"
      ],
      "metadata": {
        "id": "II8J_PqZwhdd"
      },
      "execution_count": null,
      "outputs": []
    },
    {
      "cell_type": "code",
      "source": [
        "sns.countplot(x=train_dataset['Rating']);"
      ],
      "metadata": {
        "id": "VJqWQsDcwwGF"
      },
      "execution_count": null,
      "outputs": []
    },
    {
      "cell_type": "code",
      "source": [
        "train_dataset = train_dataset.drop(['UserId', 'RevId', 'image_urls'], axis = 1)"
      ],
      "metadata": {
        "id": "sbDR_anmxBDK"
      },
      "execution_count": null,
      "outputs": []
    },
    {
      "cell_type": "code",
      "source": [
        "train_dataset.head()"
      ],
      "metadata": {
        "id": "b4r5mg7xxlfe"
      },
      "execution_count": null,
      "outputs": []
    },
    {
      "cell_type": "code",
      "source": [
        "data = train_dataset['Comment']\n",
        "labels = np.array(train_dataset['Rating'])"
      ],
      "metadata": {
        "id": "ZS_gcv1Xxr6E"
      },
      "execution_count": null,
      "outputs": []
    },
    {
      "cell_type": "code",
      "source": [
        "stop = stopwords.words('english')\n",
        "add_stopwords = []\n",
        "for line in pd.read_csv('/content/gdrive/MyDrive/MLSentiment/stopwords.txt', encoding='utf-8', header=None, chunksize=1):\n",
        "    add_stopwords.append(line.iloc[0,0])\n",
        "stop.extend(add_stopwords)\n",
        "punctuation = list(string.punctuation)\n",
        "\n",
        "def split_into_words(text):\n",
        "    print(text)\n",
        "    words = text.split()\n",
        "    return words\n",
        "\n",
        "def to_lower_case(words):\n",
        "    words = [word.lower() for word in words]\n",
        "    return words\n",
        "\n",
        "def remove_punctuation(words):\n",
        "    re_punc = re.compile('[%s]' % re.escape(string.punctuation))\n",
        "    stripped = [re_punc.sub('', w) for w in words]\n",
        "    return stripped\n",
        "\n",
        "def keep_alphabetic(words):\n",
        "    words = [word for word in words if word.isalpha()]\n",
        "    return words\n",
        "\n",
        "def remove_stopwords(words):\n",
        "    stop_words = stop\n",
        "    words = [w for w in words if not w in stop_words]\n",
        "    return words\n",
        "\n",
        "def to_sentence(words):\n",
        "    return ' '.join(words)\n",
        "\n",
        "def review(words):\n",
        "    review_tokenizer = nltk.tokenize.word_tokenize(words, language='english', preserve_line=False)[source]\n",
        "    review = review_tokenizer.tokenize(words)\n",
        "    return review\n",
        "\n",
        "def denoise_text(text):\n",
        "    text = str(text)\n",
        "    words = split_into_words(text)\n",
        "    words = to_lower_case(words)\n",
        "    words = remove_punctuation(words)\n",
        "    words = keep_alphabetic(words)\n",
        "    words = remove_stopwords(words)\n",
        "    return to_sentence(words)"
      ],
      "metadata": {
        "id": "8BYS1AGsyJ07"
      },
      "execution_count": null,
      "outputs": []
    },
    {
      "cell_type": "code",
      "source": [
        "data = data.apply(denoise_text)"
      ],
      "metadata": {
        "id": "Y3aybZ7K0FY9"
      },
      "execution_count": null,
      "outputs": []
    },
    {
      "cell_type": "code",
      "source": [
        "print('Before: {}'. format(list(train_dataset['Comment'][:2])))\n",
        "print('---')\n",
        "print('After: {}'. format(list(data[:2])))"
      ],
      "metadata": {
        "id": "lDnu8NMORhvq"
      },
      "execution_count": null,
      "outputs": []
    },
    {
      "cell_type": "code",
      "source": [
        "X_train, X_test, y_train, y_test = test = train_test_split(data, labels, test_size=0.20, random_state=1, stratify = labels)"
      ],
      "metadata": {
        "id": "_sG53yTk0KuT"
      },
      "execution_count": null,
      "outputs": []
    },
    {
      "cell_type": "code",
      "source": [
        "tokenizer = Tokenizer(num_words=10000, oov_token = '<OOV>')\n",
        "tokenizer.fit_on_texts(X_train)\n",
        "word_index = tokenizer.word_index\n",
        "VOCAB_SIZE = len(word_index)+1\n",
        "VOCAB_SIZE"
      ],
      "metadata": {
        "id": "ywsVWyjZ0YtQ",
        "colab": {
          "base_uri": "https://localhost:8080/"
        },
        "outputId": "58a364dc-f355-45c1-deb6-9ba9dad6e652"
      },
      "execution_count": null,
      "outputs": [
        {
          "output_type": "execute_result",
          "data": {
            "text/plain": [
              "9702"
            ]
          },
          "metadata": {},
          "execution_count": 16
        }
      ]
    },
    {
      "cell_type": "code",
      "source": [
        "maxlen = max([len(x) for x in X_train]) \n",
        "maxlen = 50"
      ],
      "metadata": {
        "id": "FtZYHC_60bmi"
      },
      "execution_count": null,
      "outputs": []
    },
    {
      "cell_type": "code",
      "source": [
        "train_sequences = tokenizer.texts_to_sequences(X_train)\n",
        "train_padded_sequences = pad_sequences(train_sequences,maxlen=maxlen,padding='post',truncating='post')\n",
        "test_sequences = tokenizer.texts_to_sequences(X_test)\n",
        "test_padded_sequences = pad_sequences(test_sequences,maxlen=maxlen,padding='post',truncating='post')"
      ],
      "metadata": {
        "id": "vOdq5NMm0jqe"
      },
      "execution_count": null,
      "outputs": []
    },
    {
      "cell_type": "code",
      "source": [
        "len(train_padded_sequences[0])"
      ],
      "metadata": {
        "id": "DYIM6__i0mJ0",
        "colab": {
          "base_uri": "https://localhost:8080/"
        },
        "outputId": "398a27cc-15df-49c7-a1d5-6e0ff6e21a68"
      },
      "execution_count": null,
      "outputs": [
        {
          "output_type": "execute_result",
          "data": {
            "text/plain": [
              "50"
            ]
          },
          "metadata": {},
          "execution_count": 19
        }
      ]
    },
    {
      "cell_type": "code",
      "source": [
        "embedding_dim = 64\n",
        "\n",
        "model = tf.keras.Sequential([\n",
        "        tf.keras.layers.Embedding(VOCAB_SIZE+1, embedding_dim, input_length=maxlen),\n",
        "        tf.keras.layers.Bidirectional(tf.keras.layers.LSTM(64)),\n",
        "        tf.keras.layers.Flatten(),\n",
        "        tf.keras.layers.BatchNormalization(),\n",
        "        tf.keras.layers.Dropout(0.30),\n",
        "        tf.keras.layers.Dense(embedding_dim,activation='relu'),\n",
        "        tf.keras.layers.BatchNormalization(),\n",
        "        tf.keras.layers.Dropout(0.30),\n",
        "        tf.keras.layers.Dense(8,activation='relu'),\n",
        "        tf.keras.layers.Dense(1,activation='sigmoid'),\n",
        "    ])\n",
        "\n",
        "model.compile(loss = 'binary_crossentropy',\n",
        "                optimizer = 'adam',\n",
        "                metrics = ['accuracy'])"
      ],
      "metadata": {
        "id": "ldiYNOQJ0ouD"
      },
      "execution_count": null,
      "outputs": []
    },
    {
      "cell_type": "code",
      "source": [
        "model.summary()"
      ],
      "metadata": {
        "id": "C495rqUt0try",
        "colab": {
          "base_uri": "https://localhost:8080/"
        },
        "outputId": "20cd45de-2231-456a-ea21-bb2b4fb55db5"
      },
      "execution_count": null,
      "outputs": [
        {
          "output_type": "stream",
          "name": "stdout",
          "text": [
            "Model: \"sequential\"\n",
            "_________________________________________________________________\n",
            " Layer (type)                Output Shape              Param #   \n",
            "=================================================================\n",
            " embedding (Embedding)       (None, 50, 64)            620992    \n",
            "                                                                 \n",
            " bidirectional (Bidirectiona  (None, 128)              66048     \n",
            " l)                                                              \n",
            "                                                                 \n",
            " flatten (Flatten)           (None, 128)               0         \n",
            "                                                                 \n",
            " batch_normalization (BatchN  (None, 128)              512       \n",
            " ormalization)                                                   \n",
            "                                                                 \n",
            " dropout (Dropout)           (None, 128)               0         \n",
            "                                                                 \n",
            " dense (Dense)               (None, 64)                8256      \n",
            "                                                                 \n",
            " batch_normalization_1 (Batc  (None, 64)               256       \n",
            " hNormalization)                                                 \n",
            "                                                                 \n",
            " dropout_1 (Dropout)         (None, 64)                0         \n",
            "                                                                 \n",
            " dense_1 (Dense)             (None, 8)                 520       \n",
            "                                                                 \n",
            " dense_2 (Dense)             (None, 1)                 9         \n",
            "                                                                 \n",
            "=================================================================\n",
            "Total params: 696,593\n",
            "Trainable params: 696,209\n",
            "Non-trainable params: 384\n",
            "_________________________________________________________________\n"
          ]
        }
      ]
    },
    {
      "cell_type": "code",
      "source": [
        "model.compile(optimizer='adam',loss=tf.keras.losses.BinaryCrossentropy(from_logits=True),metrics=['accuracy'])"
      ],
      "metadata": {
        "id": "RrpNpkrnGayc"
      },
      "execution_count": null,
      "outputs": []
    },
    {
      "cell_type": "code",
      "source": [
        "history = model.fit(train_padded_sequences, y_train, validation_data = (test_padded_sequences, y_test), epochs = 10)"
      ],
      "metadata": {
        "id": "J7FpI4xP0v9s",
        "colab": {
          "base_uri": "https://localhost:8080/"
        },
        "outputId": "4ed50d14-6f33-4f20-e05f-3665d7ba45d2"
      },
      "execution_count": null,
      "outputs": [
        {
          "output_type": "stream",
          "name": "stdout",
          "text": [
            "Epoch 1/10\n",
            "227/227 [==============================] - 22s 72ms/step - loss: 0.5562 - accuracy: 0.7110 - val_loss: 0.4884 - val_accuracy: 0.7878\n",
            "Epoch 2/10\n",
            "227/227 [==============================] - 15s 68ms/step - loss: 0.2889 - accuracy: 0.8925 - val_loss: 0.3610 - val_accuracy: 0.8859\n",
            "Epoch 3/10\n",
            "227/227 [==============================] - 17s 75ms/step - loss: 0.2194 - accuracy: 0.9228 - val_loss: 0.3355 - val_accuracy: 0.8776\n",
            "Epoch 4/10\n",
            "227/227 [==============================] - 15s 68ms/step - loss: 0.1774 - accuracy: 0.9337 - val_loss: 0.3999 - val_accuracy: 0.8506\n",
            "Epoch 5/10\n",
            "227/227 [==============================] - 15s 68ms/step - loss: 0.1419 - accuracy: 0.9504 - val_loss: 0.4945 - val_accuracy: 0.8545\n",
            "Epoch 6/10\n",
            "227/227 [==============================] - 15s 67ms/step - loss: 0.1227 - accuracy: 0.9551 - val_loss: 0.4995 - val_accuracy: 0.8137\n",
            "Epoch 7/10\n",
            "227/227 [==============================] - 15s 67ms/step - loss: 0.1017 - accuracy: 0.9636 - val_loss: 0.5180 - val_accuracy: 0.8738\n",
            "Epoch 8/10\n",
            "227/227 [==============================] - 15s 68ms/step - loss: 0.0861 - accuracy: 0.9700 - val_loss: 0.6300 - val_accuracy: 0.8716\n",
            "Epoch 9/10\n",
            "227/227 [==============================] - 15s 67ms/step - loss: 0.0801 - accuracy: 0.9735 - val_loss: 0.6896 - val_accuracy: 0.8627\n",
            "Epoch 10/10\n",
            "227/227 [==============================] - 15s 67ms/step - loss: 0.0729 - accuracy: 0.9753 - val_loss: 0.5301 - val_accuracy: 0.8517\n"
          ]
        }
      ]
    },
    {
      "cell_type": "code",
      "source": [
        "tokenizer.sequences_to_texts(test_padded_sequences)[99]"
      ],
      "metadata": {
        "id": "qYtpkNgg07Vr",
        "colab": {
          "base_uri": "https://localhost:8080/",
          "height": 53
        },
        "outputId": "2a9207ff-8f5a-4717-d23e-61a8dfde9b9d"
      },
      "execution_count": null,
      "outputs": [
        {
          "output_type": "execute_result",
          "data": {
            "text/plain": [
              "'hôm tết nem khoai khoai dai rán mẻ cũ nem nhạt ngon <OOV> hiện sâu hix <OOV> <OOV> <OOV> <OOV> <OOV> <OOV> <OOV> <OOV> <OOV> <OOV> <OOV> <OOV> <OOV> <OOV> <OOV> <OOV> <OOV> <OOV> <OOV> <OOV> <OOV> <OOV> <OOV> <OOV> <OOV> <OOV> <OOV> <OOV> <OOV> <OOV> <OOV> <OOV> <OOV> <OOV>'"
            ],
            "application/vnd.google.colaboratory.intrinsic+json": {
              "type": "string"
            }
          },
          "metadata": {},
          "execution_count": 24
        }
      ]
    },
    {
      "cell_type": "code",
      "source": [
        "model.predict(test_padded_sequences)[99]"
      ],
      "metadata": {
        "id": "HkKeWd0V0_-t",
        "colab": {
          "base_uri": "https://localhost:8080/"
        },
        "outputId": "f8a1a519-d9e0-48b8-857b-15f05fb6c7df"
      },
      "execution_count": null,
      "outputs": [
        {
          "output_type": "stream",
          "name": "stdout",
          "text": [
            "57/57 [==============================] - 2s 15ms/step\n"
          ]
        },
        {
          "output_type": "execute_result",
          "data": {
            "text/plain": [
              "array([0.59323364], dtype=float32)"
            ]
          },
          "metadata": {},
          "execution_count": 25
        }
      ]
    },
    {
      "cell_type": "code",
      "source": [
        "rev_id_test = test_dataset[\"RevId\"]\n",
        "test_dataset = test_dataset.replace('nan', np.nan)\n",
        "comment_test = test_dataset[\"Comment\"]\n",
        "comment_test = comment_test.replace(np.nan, '')\n",
        "print(comment_test)"
      ],
      "metadata": {
        "colab": {
          "base_uri": "https://localhost:8080/"
        },
        "id": "3at5qdSHam3c",
        "outputId": "bc679583-5d58-43e8-aa5a-980dbb4772ea"
      },
      "execution_count": null,
      "outputs": [
        {
          "output_type": "stream",
          "name": "stdout",
          "text": [
            "0       Trà táo 35k\\nCookie socola 38k \\nNước ở đây bì...\n",
            "1       Hôm rồi trung tâm mình tổ chức noel party ở đâ...\n",
            "2       Thịt gà của quán là nhất đấy. Đi ăn gọi liền 4...\n",
            "3       Hai đứa ăn xong đau bụng cả ngày\\nChân gà ok n...\n",
            "4       Mình vừa thử trưa nay. Điểm cộng đầu tiên là b...\n",
            "                              ...                        \n",
            "5098    Bún riêu ở đây ngon mà, lúc nào cũng đông, thế...\n",
            "5099    Quán ngồi thoải mái và cưc thích ❤ menu đa dạn...\n",
            "5100    Quá thất vọng, chất lượng sản phẩm ngày càng đ...\n",
            "5101    Giao hàng nhanh,  miếng băm chả đều ngon ko bị...\n",
            "5102    Nhìn ở bên ngoài trông quán khá bé nhưng vào t...\n",
            "Name: Comment, Length: 5103, dtype: object\n"
          ]
        }
      ]
    },
    {
      "cell_type": "code",
      "source": [
        "comment_test.apply(denoise_text)\n",
        "test_t = tokenizer.texts_to_sequences(comment_test)\n",
        "test_v = pad_sequences(test_t, padding='post',truncating='post')"
      ],
      "metadata": {
        "id": "xhPrQJXpYrTA"
      },
      "execution_count": null,
      "outputs": []
    },
    {
      "cell_type": "code",
      "source": [
        "pred = model.predict(test_v)\n",
        "pred = pd.DataFrame(pred,columns=[\"Rating\"])\n",
        "\n",
        "pred = pred.apply(lambda x: ['0' if y < 0.5 else '1' for y in x])\n",
        "print(pred)\n",
        "sub = pd.concat([rev_id_test, pred],axis=1)\n",
        "\n",
        "sub[\"RevId\"] = sub[\"RevId\"].astype(int)\n",
        "sub[\"Rating\"] = sub[\"Rating\"].replace(np.nan,'NaN',regex = True)\n",
        "print(sub)\n",
        "sub.to_csv(f\"metrics.csv\", index=False)\n",
        "!cp metrics.csv \"/content/gdrive/MyDrive/MLSentiment/\"\n"
      ],
      "metadata": {
        "colab": {
          "base_uri": "https://localhost:8080/"
        },
        "id": "VikQVentNqMe",
        "outputId": "8900c18e-3e3c-49d3-8d3b-29fa3925bd3c"
      },
      "execution_count": null,
      "outputs": [
        {
          "output_type": "stream",
          "name": "stdout",
          "text": [
            "160/160 [==============================] - 34s 205ms/step\n",
            "     Rating\n",
            "0         0\n",
            "1         0\n",
            "2         0\n",
            "3         1\n",
            "4         1\n",
            "...     ...\n",
            "5098      1\n",
            "5099      1\n",
            "5100      0\n",
            "5101      1\n",
            "5102      0\n",
            "\n",
            "[5103 rows x 1 columns]\n",
            "        RevId Rating\n",
            "0      781115      0\n",
            "1     1219481      0\n",
            "2     1703765      0\n",
            "3     4870346      1\n",
            "4     2638711      1\n",
            "...       ...    ...\n",
            "5098  1025826      1\n",
            "5099  1278470      1\n",
            "5100  2565212      0\n",
            "5101  3766155      1\n",
            "5102  1070891      0\n",
            "\n",
            "[5103 rows x 2 columns]\n"
          ]
        }
      ]
    }
  ],
  "metadata": {
    "colab": {
      "provenance": []
    },
    "kernelspec": {
      "display_name": "Python 3",
      "name": "python3"
    },
    "gpuClass": "standard"
  },
  "nbformat": 4,
  "nbformat_minor": 0
}